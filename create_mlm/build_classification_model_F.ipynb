{
 "cells": [
  {
   "cell_type": "code",
   "execution_count": 82,
   "metadata": {},
   "outputs": [],
   "source": [
    "import pandas as pd\n",
    "from sklearn.model_selection import train_test_split\n",
    "from matplotlib import pyplot as plt\n",
    "import numpy as np\n",
    "import seaborn as sns\n",
    "from sklearn.model_selection import cross_val_score\n",
    "from sklearn.model_selection import GridSearchCV\n",
    "from sklearn.pipeline import Pipeline\n",
    "from sklearn.preprocessing import FunctionTransformer\n",
    "from sklearn.ensemble import RandomForestClassifier\n",
    "from sklearn.linear_model import LogisticRegression\n",
    "import pickle"
   ]
  },
  {
   "cell_type": "code",
   "execution_count": 2,
   "metadata": {},
   "outputs": [],
   "source": [
    "pd.options.mode.chained_assignment = None"
   ]
  },
  {
   "cell_type": "code",
   "execution_count": 16,
   "metadata": {},
   "outputs": [],
   "source": [
    "df = pd.read_csv(\"final_df_10x\")"
   ]
  },
  {
   "cell_type": "markdown",
   "metadata": {},
   "source": [
    "## Feature Engineering"
   ]
  },
  {
   "cell_type": "markdown",
   "metadata": {},
   "source": [
    "### Remove missed/ still on Trades"
   ]
  },
  {
   "cell_type": "code",
   "execution_count": 17,
   "metadata": {},
   "outputs": [],
   "source": [
    "def drop_missed_trades(df):\n",
    "    df = df.drop(df[df[\"win_loss\"] == \"missed\"].index)\n",
    "    df = df.drop(df[df[\"win_loss\"] == \"still on\"].index)\n",
    "    \n",
    "    return df"
   ]
  },
  {
   "cell_type": "code",
   "execution_count": 18,
   "metadata": {},
   "outputs": [],
   "source": [
    "df = drop_missed_trades(df)"
   ]
  },
  {
   "cell_type": "markdown",
   "metadata": {},
   "source": [
    "### Removing Missing Values"
   ]
  },
  {
   "cell_type": "code",
   "execution_count": 20,
   "metadata": {},
   "outputs": [],
   "source": [
    "def remove_missing_values(df):\n",
    "    df = df.rename(columns={\"Unnamed: 0\": \"index\"})\n",
    "    df = df.set_index(\"index\")\n",
    "    df = df.dropna()\n",
    "    \n",
    "    return df"
   ]
  },
  {
   "cell_type": "code",
   "execution_count": 21,
   "metadata": {},
   "outputs": [],
   "source": [
    "df = remove_missing_values(df)"
   ]
  },
  {
   "cell_type": "markdown",
   "metadata": {},
   "source": [
    "### Win Trades compared to Loss Trades (Win-Loss-Relation)"
   ]
  },
  {
   "cell_type": "code",
   "execution_count": 22,
   "metadata": {
    "scrolled": true
   },
   "outputs": [
    {
     "data": {
      "text/html": [
       "<div>\n",
       "<style scoped>\n",
       "    .dataframe tbody tr th:only-of-type {\n",
       "        vertical-align: middle;\n",
       "    }\n",
       "\n",
       "    .dataframe tbody tr th {\n",
       "        vertical-align: top;\n",
       "    }\n",
       "\n",
       "    .dataframe thead th {\n",
       "        text-align: right;\n",
       "    }\n",
       "</style>\n",
       "<table border=\"1\" class=\"dataframe\">\n",
       "  <thead>\n",
       "    <tr style=\"text-align: right;\">\n",
       "      <th></th>\n",
       "      <th>time</th>\n",
       "      <th>open</th>\n",
       "      <th>high</th>\n",
       "      <th>low</th>\n",
       "      <th>close</th>\n",
       "      <th>Upper</th>\n",
       "      <th>Basis</th>\n",
       "      <th>Lower</th>\n",
       "      <th>MA</th>\n",
       "      <th>Volume</th>\n",
       "      <th>...</th>\n",
       "      <th>Histogram</th>\n",
       "      <th>MACD</th>\n",
       "      <th>Signal</th>\n",
       "      <th>name</th>\n",
       "      <th>sector</th>\n",
       "      <th>entry</th>\n",
       "      <th>stop_loss</th>\n",
       "      <th>bullishPB</th>\n",
       "      <th>triggered</th>\n",
       "      <th>win_loss</th>\n",
       "    </tr>\n",
       "    <tr>\n",
       "      <th>index</th>\n",
       "      <th></th>\n",
       "      <th></th>\n",
       "      <th></th>\n",
       "      <th></th>\n",
       "      <th></th>\n",
       "      <th></th>\n",
       "      <th></th>\n",
       "      <th></th>\n",
       "      <th></th>\n",
       "      <th></th>\n",
       "      <th></th>\n",
       "      <th></th>\n",
       "      <th></th>\n",
       "      <th></th>\n",
       "      <th></th>\n",
       "      <th></th>\n",
       "      <th></th>\n",
       "      <th></th>\n",
       "      <th></th>\n",
       "      <th></th>\n",
       "      <th></th>\n",
       "    </tr>\n",
       "  </thead>\n",
       "  <tbody>\n",
       "    <tr>\n",
       "      <th>229</th>\n",
       "      <td>2014-04-03 13:30:00+00:00</td>\n",
       "      <td>1.3130</td>\n",
       "      <td>1.3650</td>\n",
       "      <td>1.2155</td>\n",
       "      <td>1.36500</td>\n",
       "      <td>2.454640</td>\n",
       "      <td>1.659454</td>\n",
       "      <td>0.864269</td>\n",
       "      <td>3.250097</td>\n",
       "      <td>723.0</td>\n",
       "      <td>...</td>\n",
       "      <td>-0.037375</td>\n",
       "      <td>0.081032</td>\n",
       "      <td>0.118407</td>\n",
       "      <td>Halo Labs Inc.</td>\n",
       "      <td>Cannabis</td>\n",
       "      <td>1.367730</td>\n",
       "      <td>1.31300</td>\n",
       "      <td>True</td>\n",
       "      <td>open</td>\n",
       "      <td>loss</td>\n",
       "    </tr>\n",
       "    <tr>\n",
       "      <th>458</th>\n",
       "      <td>2018-10-31 13:30:00+00:00</td>\n",
       "      <td>0.2946</td>\n",
       "      <td>0.2946</td>\n",
       "      <td>0.2709</td>\n",
       "      <td>0.28370</td>\n",
       "      <td>0.366572</td>\n",
       "      <td>0.266035</td>\n",
       "      <td>0.165497</td>\n",
       "      <td>0.333594</td>\n",
       "      <td>18160.0</td>\n",
       "      <td>...</td>\n",
       "      <td>-0.006938</td>\n",
       "      <td>0.022680</td>\n",
       "      <td>0.029618</td>\n",
       "      <td>Halo Labs Inc.</td>\n",
       "      <td>Cannabis</td>\n",
       "      <td>0.295189</td>\n",
       "      <td>0.28370</td>\n",
       "      <td>True</td>\n",
       "      <td>open</td>\n",
       "      <td>loss</td>\n",
       "    </tr>\n",
       "    <tr>\n",
       "      <th>459</th>\n",
       "      <td>2018-11-01 13:30:00+00:00</td>\n",
       "      <td>0.3000</td>\n",
       "      <td>0.3000</td>\n",
       "      <td>0.2837</td>\n",
       "      <td>0.29604</td>\n",
       "      <td>0.366259</td>\n",
       "      <td>0.268763</td>\n",
       "      <td>0.171266</td>\n",
       "      <td>0.331824</td>\n",
       "      <td>64747.0</td>\n",
       "      <td>...</td>\n",
       "      <td>-0.005883</td>\n",
       "      <td>0.022265</td>\n",
       "      <td>0.028148</td>\n",
       "      <td>Halo Labs Inc.</td>\n",
       "      <td>Cannabis</td>\n",
       "      <td>0.300600</td>\n",
       "      <td>0.29604</td>\n",
       "      <td>True</td>\n",
       "      <td>open</td>\n",
       "      <td>loss</td>\n",
       "    </tr>\n",
       "    <tr>\n",
       "      <th>461</th>\n",
       "      <td>2018-11-05 14:30:00+00:00</td>\n",
       "      <td>0.3300</td>\n",
       "      <td>0.3500</td>\n",
       "      <td>0.2000</td>\n",
       "      <td>0.30260</td>\n",
       "      <td>0.385301</td>\n",
       "      <td>0.274420</td>\n",
       "      <td>0.163539</td>\n",
       "      <td>0.326387</td>\n",
       "      <td>106946.0</td>\n",
       "      <td>...</td>\n",
       "      <td>-0.004133</td>\n",
       "      <td>0.021752</td>\n",
       "      <td>0.025885</td>\n",
       "      <td>Halo Labs Inc.</td>\n",
       "      <td>Cannabis</td>\n",
       "      <td>0.350700</td>\n",
       "      <td>0.30260</td>\n",
       "      <td>True</td>\n",
       "      <td>open</td>\n",
       "      <td>loss</td>\n",
       "    </tr>\n",
       "    <tr>\n",
       "      <th>462</th>\n",
       "      <td>2018-11-06 14:30:00+00:00</td>\n",
       "      <td>0.3500</td>\n",
       "      <td>0.3500</td>\n",
       "      <td>0.2030</td>\n",
       "      <td>0.29120</td>\n",
       "      <td>0.397297</td>\n",
       "      <td>0.275946</td>\n",
       "      <td>0.154595</td>\n",
       "      <td>0.325081</td>\n",
       "      <td>29066.0</td>\n",
       "      <td>...</td>\n",
       "      <td>-0.004389</td>\n",
       "      <td>0.020400</td>\n",
       "      <td>0.024788</td>\n",
       "      <td>Halo Labs Inc.</td>\n",
       "      <td>Cannabis</td>\n",
       "      <td>0.350700</td>\n",
       "      <td>0.29120</td>\n",
       "      <td>True</td>\n",
       "      <td>open</td>\n",
       "      <td>loss</td>\n",
       "    </tr>\n",
       "    <tr>\n",
       "      <th>...</th>\n",
       "      <td>...</td>\n",
       "      <td>...</td>\n",
       "      <td>...</td>\n",
       "      <td>...</td>\n",
       "      <td>...</td>\n",
       "      <td>...</td>\n",
       "      <td>...</td>\n",
       "      <td>...</td>\n",
       "      <td>...</td>\n",
       "      <td>...</td>\n",
       "      <td>...</td>\n",
       "      <td>...</td>\n",
       "      <td>...</td>\n",
       "      <td>...</td>\n",
       "      <td>...</td>\n",
       "      <td>...</td>\n",
       "      <td>...</td>\n",
       "      <td>...</td>\n",
       "      <td>...</td>\n",
       "      <td>...</td>\n",
       "      <td>...</td>\n",
       "    </tr>\n",
       "    <tr>\n",
       "      <th>4081</th>\n",
       "      <td>2020-08-26 13:30:00+00:00</td>\n",
       "      <td>47.0100</td>\n",
       "      <td>47.3200</td>\n",
       "      <td>46.4650</td>\n",
       "      <td>46.98000</td>\n",
       "      <td>48.548176</td>\n",
       "      <td>45.186389</td>\n",
       "      <td>41.824602</td>\n",
       "      <td>49.727100</td>\n",
       "      <td>1704853.0</td>\n",
       "      <td>...</td>\n",
       "      <td>0.274757</td>\n",
       "      <td>0.627211</td>\n",
       "      <td>0.352454</td>\n",
       "      <td>CBR Group Inc.</td>\n",
       "      <td>Real Estate</td>\n",
       "      <td>47.414640</td>\n",
       "      <td>46.98000</td>\n",
       "      <td>True</td>\n",
       "      <td>open</td>\n",
       "      <td>loss</td>\n",
       "    </tr>\n",
       "    <tr>\n",
       "      <th>4083</th>\n",
       "      <td>2020-08-28 13:30:00+00:00</td>\n",
       "      <td>47.5500</td>\n",
       "      <td>47.9000</td>\n",
       "      <td>46.9650</td>\n",
       "      <td>47.85000</td>\n",
       "      <td>48.862377</td>\n",
       "      <td>45.607346</td>\n",
       "      <td>42.352316</td>\n",
       "      <td>49.652050</td>\n",
       "      <td>863316.0</td>\n",
       "      <td>...</td>\n",
       "      <td>0.312114</td>\n",
       "      <td>0.815054</td>\n",
       "      <td>0.502939</td>\n",
       "      <td>CBR Group Inc.</td>\n",
       "      <td>Real Estate</td>\n",
       "      <td>47.995800</td>\n",
       "      <td>47.55000</td>\n",
       "      <td>True</td>\n",
       "      <td>open</td>\n",
       "      <td>loss</td>\n",
       "    </tr>\n",
       "    <tr>\n",
       "      <th>4104</th>\n",
       "      <td>2020-09-29 13:30:00+00:00</td>\n",
       "      <td>47.1400</td>\n",
       "      <td>47.3600</td>\n",
       "      <td>46.2100</td>\n",
       "      <td>46.77000</td>\n",
       "      <td>50.625405</td>\n",
       "      <td>47.070210</td>\n",
       "      <td>43.515016</td>\n",
       "      <td>48.692700</td>\n",
       "      <td>872316.0</td>\n",
       "      <td>...</td>\n",
       "      <td>-0.298595</td>\n",
       "      <td>0.030282</td>\n",
       "      <td>0.328878</td>\n",
       "      <td>CBR Group Inc.</td>\n",
       "      <td>Real Estate</td>\n",
       "      <td>47.454720</td>\n",
       "      <td>46.77000</td>\n",
       "      <td>True</td>\n",
       "      <td>open</td>\n",
       "      <td>loss</td>\n",
       "    </tr>\n",
       "    <tr>\n",
       "      <th>4108</th>\n",
       "      <td>2020-10-05 13:30:00+00:00</td>\n",
       "      <td>48.6800</td>\n",
       "      <td>49.0900</td>\n",
       "      <td>47.9400</td>\n",
       "      <td>48.61000</td>\n",
       "      <td>50.857047</td>\n",
       "      <td>47.310752</td>\n",
       "      <td>43.764456</td>\n",
       "      <td>48.465800</td>\n",
       "      <td>1615549.0</td>\n",
       "      <td>...</td>\n",
       "      <td>0.019990</td>\n",
       "      <td>0.231185</td>\n",
       "      <td>0.211195</td>\n",
       "      <td>CBR Group Inc.</td>\n",
       "      <td>Real Estate</td>\n",
       "      <td>49.188180</td>\n",
       "      <td>48.61000</td>\n",
       "      <td>True</td>\n",
       "      <td>open</td>\n",
       "      <td>loss</td>\n",
       "    </tr>\n",
       "    <tr>\n",
       "      <th>4110</th>\n",
       "      <td>2020-10-07 13:30:00+00:00</td>\n",
       "      <td>49.0000</td>\n",
       "      <td>49.1700</td>\n",
       "      <td>48.4700</td>\n",
       "      <td>48.95000</td>\n",
       "      <td>51.023806</td>\n",
       "      <td>47.563844</td>\n",
       "      <td>44.103883</td>\n",
       "      <td>48.351100</td>\n",
       "      <td>1456131.0</td>\n",
       "      <td>...</td>\n",
       "      <td>0.127246</td>\n",
       "      <td>0.388930</td>\n",
       "      <td>0.261684</td>\n",
       "      <td>CBR Group Inc.</td>\n",
       "      <td>Real Estate</td>\n",
       "      <td>49.268340</td>\n",
       "      <td>48.95000</td>\n",
       "      <td>True</td>\n",
       "      <td>open</td>\n",
       "      <td>loss</td>\n",
       "    </tr>\n",
       "  </tbody>\n",
       "</table>\n",
       "<p>58225 rows × 22 columns</p>\n",
       "</div>"
      ],
      "text/plain": [
       "                            time     open     high      low     close  \\\n",
       "index                                                                   \n",
       "229    2014-04-03 13:30:00+00:00   1.3130   1.3650   1.2155   1.36500   \n",
       "458    2018-10-31 13:30:00+00:00   0.2946   0.2946   0.2709   0.28370   \n",
       "459    2018-11-01 13:30:00+00:00   0.3000   0.3000   0.2837   0.29604   \n",
       "461    2018-11-05 14:30:00+00:00   0.3300   0.3500   0.2000   0.30260   \n",
       "462    2018-11-06 14:30:00+00:00   0.3500   0.3500   0.2030   0.29120   \n",
       "...                          ...      ...      ...      ...       ...   \n",
       "4081   2020-08-26 13:30:00+00:00  47.0100  47.3200  46.4650  46.98000   \n",
       "4083   2020-08-28 13:30:00+00:00  47.5500  47.9000  46.9650  47.85000   \n",
       "4104   2020-09-29 13:30:00+00:00  47.1400  47.3600  46.2100  46.77000   \n",
       "4108   2020-10-05 13:30:00+00:00  48.6800  49.0900  47.9400  48.61000   \n",
       "4110   2020-10-07 13:30:00+00:00  49.0000  49.1700  48.4700  48.95000   \n",
       "\n",
       "           Upper      Basis      Lower         MA     Volume  ...  Histogram  \\\n",
       "index                                                         ...              \n",
       "229     2.454640   1.659454   0.864269   3.250097      723.0  ...  -0.037375   \n",
       "458     0.366572   0.266035   0.165497   0.333594    18160.0  ...  -0.006938   \n",
       "459     0.366259   0.268763   0.171266   0.331824    64747.0  ...  -0.005883   \n",
       "461     0.385301   0.274420   0.163539   0.326387   106946.0  ...  -0.004133   \n",
       "462     0.397297   0.275946   0.154595   0.325081    29066.0  ...  -0.004389   \n",
       "...          ...        ...        ...        ...        ...  ...        ...   \n",
       "4081   48.548176  45.186389  41.824602  49.727100  1704853.0  ...   0.274757   \n",
       "4083   48.862377  45.607346  42.352316  49.652050   863316.0  ...   0.312114   \n",
       "4104   50.625405  47.070210  43.515016  48.692700   872316.0  ...  -0.298595   \n",
       "4108   50.857047  47.310752  43.764456  48.465800  1615549.0  ...   0.019990   \n",
       "4110   51.023806  47.563844  44.103883  48.351100  1456131.0  ...   0.127246   \n",
       "\n",
       "           MACD    Signal            name       sector      entry stop_loss  \\\n",
       "index                                                                         \n",
       "229    0.081032  0.118407  Halo Labs Inc.     Cannabis   1.367730   1.31300   \n",
       "458    0.022680  0.029618  Halo Labs Inc.     Cannabis   0.295189   0.28370   \n",
       "459    0.022265  0.028148  Halo Labs Inc.     Cannabis   0.300600   0.29604   \n",
       "461    0.021752  0.025885  Halo Labs Inc.     Cannabis   0.350700   0.30260   \n",
       "462    0.020400  0.024788  Halo Labs Inc.     Cannabis   0.350700   0.29120   \n",
       "...         ...       ...             ...          ...        ...       ...   \n",
       "4081   0.627211  0.352454  CBR Group Inc.  Real Estate  47.414640  46.98000   \n",
       "4083   0.815054  0.502939  CBR Group Inc.  Real Estate  47.995800  47.55000   \n",
       "4104   0.030282  0.328878  CBR Group Inc.  Real Estate  47.454720  46.77000   \n",
       "4108   0.231185  0.211195  CBR Group Inc.  Real Estate  49.188180  48.61000   \n",
       "4110   0.388930  0.261684  CBR Group Inc.  Real Estate  49.268340  48.95000   \n",
       "\n",
       "       bullishPB  triggered  win_loss  \n",
       "index                                  \n",
       "229         True       open      loss  \n",
       "458         True       open      loss  \n",
       "459         True       open      loss  \n",
       "461         True       open      loss  \n",
       "462         True       open      loss  \n",
       "...          ...        ...       ...  \n",
       "4081        True       open      loss  \n",
       "4083        True       open      loss  \n",
       "4104        True       open      loss  \n",
       "4108        True       open      loss  \n",
       "4110        True       open      loss  \n",
       "\n",
       "[58225 rows x 22 columns]"
      ]
     },
     "execution_count": 22,
     "metadata": {},
     "output_type": "execute_result"
    }
   ],
   "source": [
    "df"
   ]
  },
  {
   "cell_type": "code",
   "execution_count": 23,
   "metadata": {},
   "outputs": [
    {
     "data": {
      "text/plain": [
       "loss    0.863237\n",
       "win     0.136763\n",
       "Name: win_loss, dtype: float64"
      ]
     },
     "execution_count": 23,
     "metadata": {},
     "output_type": "execute_result"
    }
   ],
   "source": [
    "df[\"win_loss\"].value_counts(normalize=True)"
   ]
  },
  {
   "cell_type": "code",
   "execution_count": 24,
   "metadata": {},
   "outputs": [
    {
     "data": {
      "text/html": [
       "<div>\n",
       "<style scoped>\n",
       "    .dataframe tbody tr th:only-of-type {\n",
       "        vertical-align: middle;\n",
       "    }\n",
       "\n",
       "    .dataframe tbody tr th {\n",
       "        vertical-align: top;\n",
       "    }\n",
       "\n",
       "    .dataframe thead th {\n",
       "        text-align: right;\n",
       "    }\n",
       "</style>\n",
       "<table border=\"1\" class=\"dataframe\">\n",
       "  <thead>\n",
       "    <tr style=\"text-align: right;\">\n",
       "      <th></th>\n",
       "      <th>win_loss</th>\n",
       "    </tr>\n",
       "  </thead>\n",
       "  <tbody>\n",
       "    <tr>\n",
       "      <th>loss</th>\n",
       "      <td>0.863237</td>\n",
       "    </tr>\n",
       "    <tr>\n",
       "      <th>win</th>\n",
       "      <td>0.136763</td>\n",
       "    </tr>\n",
       "  </tbody>\n",
       "</table>\n",
       "</div>"
      ],
      "text/plain": [
       "      win_loss\n",
       "loss  0.863237\n",
       "win   0.136763"
      ]
     },
     "execution_count": 24,
     "metadata": {},
     "output_type": "execute_result"
    }
   ],
   "source": [
    "df[\"win_loss\"].value_counts(normalize=True).to_frame()"
   ]
  },
  {
   "cell_type": "markdown",
   "metadata": {},
   "source": [
    "### Train Test Split"
   ]
  },
  {
   "cell_type": "code",
   "execution_count": 25,
   "metadata": {},
   "outputs": [],
   "source": [
    "\n",
    "X = df.drop([\"win_loss\"], axis=1)\n",
    "y = df[\"win_loss\"]\n",
    "\n",
    "X_train, X_test, y_train, y_test = train_test_split(X, y, random_state=44, test_size=0.2)\n",
    "    \n"
   ]
  },
  {
   "cell_type": "code",
   "execution_count": null,
   "metadata": {},
   "outputs": [],
   "source": []
  },
  {
   "cell_type": "code",
   "execution_count": null,
   "metadata": {},
   "outputs": [],
   "source": []
  },
  {
   "cell_type": "markdown",
   "metadata": {},
   "source": [
    "### Correlation Matrix"
   ]
  },
  {
   "cell_type": "code",
   "execution_count": 28,
   "metadata": {},
   "outputs": [
    {
     "data": {
      "image/png": "[encoded data removed]",
      "text/plain": [
       "<Figure size 1296x432 with 2 Axes>"
      ]
     },
     "metadata": {
      "needs_background": "light"
     },
     "output_type": "display_data"
    }
   ],
   "source": [
    "plt.figure(figsize=(18, 6))\n",
    "np.triu(np.ones_like(X_train.corr()))\n",
    "mask = np.triu(np.ones_like(X_train.corr(), dtype=np.bool))\n",
    "heatmap = sns.heatmap(X_train.corr(), mask=mask, vmin=-1, vmax=1, annot=True, cmap='BrBG')\n",
    "heatmap.set_title('Correlation Heatmap', fontdict={'fontsize':18}, pad=12);"
   ]
  },
  {
   "cell_type": "markdown",
   "metadata": {},
   "source": [
    "### Creating Relation Features"
   ]
  },
  {
   "cell_type": "code",
   "execution_count": 26,
   "metadata": {},
   "outputs": [],
   "source": [
    "def creating_relation_features(df):\n",
    "    df[\"relation_upper\"] = \"\"\n",
    "    df[\"relation_basis\"] = \"\"\n",
    "    df[\"relation_lower\"] = \"\"\n",
    "    df[\"relation_200MA\"] = \"\"\n",
    "    for i, row in df.iterrows():\n",
    "    \n",
    "        df.at[i, \"relation_upper\"] = (df.at[i, \"Upper\"] - df.at[i, \"close\"]) / (df.at[i, \"Upper\"] / 100)\n",
    "        df.at[i, \"relation_basis\"] = (df.at[i, \"Basis\"] - df.at[i, \"close\"]) / (df.at[i, \"Basis\"] / 100)\n",
    "        df.at[i, \"relation_lower\"] = (df.at[i, \"Lower\"] - df.at[i, \"close\"]) / (df.at[i, \"Lower\"] / 100)\n",
    "        df.at[i, \"relation_200MA\"] = (df.at[i, \"close\"] - df.at[i, \"MA\"]) / (df.at[i, \"close\"] / 100)    \n",
    "\n",
    "    return df"
   ]
  },
  {
   "cell_type": "code",
   "execution_count": 27,
   "metadata": {},
   "outputs": [],
   "source": [
    "X_train = creating_relation_features(X_train)"
   ]
  },
  {
   "cell_type": "code",
   "execution_count": 28,
   "metadata": {},
   "outputs": [],
   "source": [
    "X_test = creating_relation_features(X_test)"
   ]
  },
  {
   "cell_type": "code",
   "execution_count": null,
   "metadata": {},
   "outputs": [],
   "source": []
  },
  {
   "cell_type": "markdown",
   "metadata": {},
   "source": [
    "### Selecting only relevant features"
   ]
  },
  {
   "cell_type": "code",
   "execution_count": 30,
   "metadata": {},
   "outputs": [],
   "source": [
    "def relevant_features(df):\n",
    "    df = df[[\"Volume\", \"Volume MA\", \"MACD\", \"Signal\", \"RSI\", \"relation_upper\", \"relation_basis\", \"relation_lower\", \"relation_200MA\"]]\n",
    "    #df = df[[\"RSI\",\"MACD\", \"Signal\"]]\n",
    "    return df"
   ]
  },
  {
   "cell_type": "code",
   "execution_count": 31,
   "metadata": {},
   "outputs": [],
   "source": [
    "X_train = relevant_features(X_train)"
   ]
  },
  {
   "cell_type": "code",
   "execution_count": 32,
   "metadata": {},
   "outputs": [],
   "source": [
    "X_test = relevant_features(X_test)"
   ]
  },
  {
   "cell_type": "markdown",
   "metadata": {},
   "source": [
    "### Random Forests"
   ]
  },
  {
   "cell_type": "code",
   "execution_count": 33,
   "metadata": {},
   "outputs": [],
   "source": [
    "rf_model = RandomForestClassifier(n_estimators=1000, max_depth=2, random_state=42, n_jobs=4, class_weight = 'balanced_subsample')"
   ]
  },
  {
   "cell_type": "code",
   "execution_count": 34,
   "metadata": {},
   "outputs": [
    {
     "data": {
      "text/plain": [
       "RandomForestClassifier(bootstrap=True, ccp_alpha=0.0,\n",
       "                       class_weight='balanced_subsample', criterion='gini',\n",
       "                       max_depth=2, max_features='auto', max_leaf_nodes=None,\n",
       "                       max_samples=None, min_impurity_decrease=0.0,\n",
       "                       min_impurity_split=None, min_samples_leaf=1,\n",
       "                       min_samples_split=2, min_weight_fraction_leaf=0.0,\n",
       "                       n_estimators=1000, n_jobs=4, oob_score=False,\n",
       "                       random_state=42, verbose=0, warm_start=False)"
      ]
     },
     "execution_count": 34,
     "metadata": {},
     "output_type": "execute_result"
    }
   ],
   "source": [
    "rf_model.fit(X_train, y_train)"
   ]
  },
  {
   "cell_type": "code",
   "execution_count": 35,
   "metadata": {},
   "outputs": [
    {
     "data": {
      "text/plain": [
       "0.5846930012881065"
      ]
     },
     "execution_count": 35,
     "metadata": {},
     "output_type": "execute_result"
    }
   ],
   "source": [
    "rf_model.score(X_train, y_train)"
   ]
  },
  {
   "cell_type": "code",
   "execution_count": 36,
   "metadata": {},
   "outputs": [
    {
     "data": {
      "text/plain": [
       "0.5745813653928725"
      ]
     },
     "execution_count": 36,
     "metadata": {},
     "output_type": "execute_result"
    }
   ],
   "source": [
    "rf_model.score(X_test, y_test)"
   ]
  },
  {
   "cell_type": "markdown",
   "metadata": {},
   "source": [
    "## GridSearch Random Forests"
   ]
  },
  {
   "cell_type": "code",
   "execution_count": 68,
   "metadata": {},
   "outputs": [],
   "source": [
    "n_estimators = [200, 400, 1000]\n",
    "max_features = [\"auto\", \"sqrt\"]\n",
    "max_depth = [4,6,8,10]\n",
    "criterion = [\"gini\", \"entropy\"]\n",
    "#min_sample_split = [2,5]\n",
    "#min_sample_leaf = [1,2]\n",
    "#bootstrap = [True, False]"
   ]
  },
  {
   "cell_type": "code",
   "execution_count": 69,
   "metadata": {},
   "outputs": [],
   "source": [
    "rf_model = RandomForestClassifier(class_weight = 'balanced_subsample')"
   ]
  },
  {
   "cell_type": "code",
   "execution_count": 70,
   "metadata": {},
   "outputs": [],
   "source": [
    "param_grid = {\"n_estimators\": n_estimators,\n",
    "              \"max_features\": max_features,\n",
    "              \"max_depth\": max_depth,\n",
    "              \"criterion\": criterion}\n",
    "              "
   ]
  },
  {
   "cell_type": "code",
   "execution_count": 74,
   "metadata": {},
   "outputs": [],
   "source": [
    "rf_Grid = GridSearchCV(estimator = rf_model, param_grid = param_grid, cv = 3, verbose = 2, n_jobs = 4)"
   ]
  },
  {
   "cell_type": "code",
   "execution_count": 75,
   "metadata": {},
   "outputs": [
    {
     "name": "stdout",
     "output_type": "stream",
     "text": [
      "Fitting 3 folds for each of 48 candidates, totalling 144 fits\n"
     ]
    },
    {
     "name": "stderr",
     "output_type": "stream",
     "text": [
      "[Parallel(n_jobs=4)]: Using backend LokyBackend with 4 concurrent workers.\n",
      "[Parallel(n_jobs=4)]: Done  33 tasks      | elapsed: 25.9min\n",
      "[Parallel(n_jobs=4)]: Done 144 out of 144 | elapsed: 195.4min finished\n"
     ]
    },
    {
     "name": "stdout",
     "output_type": "stream",
     "text": [
      "CPU times: user 2min 34s, sys: 4.97 s, total: 2min 39s\n",
      "Wall time: 3h 20min 7s\n"
     ]
    },
    {
     "data": {
      "text/plain": [
       "GridSearchCV(cv=3, error_score=nan,\n",
       "             estimator=RandomForestClassifier(bootstrap=True, ccp_alpha=0.0,\n",
       "                                              class_weight='balanced_subsample',\n",
       "                                              criterion='gini', max_depth=None,\n",
       "                                              max_features='auto',\n",
       "                                              max_leaf_nodes=None,\n",
       "                                              max_samples=None,\n",
       "                                              min_impurity_decrease=0.0,\n",
       "                                              min_impurity_split=None,\n",
       "                                              min_samples_leaf=1,\n",
       "                                              min_samples_split=2,\n",
       "                                              min_weight_fraction_leaf=0.0,\n",
       "                                              n_estimators=100, n_jobs=None,\n",
       "                                              oob_score=False,\n",
       "                                              random_state=None, verbose=0,\n",
       "                                              warm_start=False),\n",
       "             iid='deprecated', n_jobs=4,\n",
       "             param_grid={'criterion': ['gini', 'entropy'],\n",
       "                         'max_depth': [4, 6, 8, 10],\n",
       "                         'max_features': ['auto', 'sqrt'],\n",
       "                         'n_estimators': [200, 400, 1000]},\n",
       "             pre_dispatch='2*n_jobs', refit=True, return_train_score=False,\n",
       "             scoring=None, verbose=2)"
      ]
     },
     "execution_count": 75,
     "metadata": {},
     "output_type": "execute_result"
    }
   ],
   "source": [
    "%%time\n",
    "rf_Grid.fit(X_train, y_train)"
   ]
  },
  {
   "cell_type": "code",
   "execution_count": 76,
   "metadata": {},
   "outputs": [
    {
     "data": {
      "text/plain": [
       "{'criterion': 'gini',\n",
       " 'max_depth': 10,\n",
       " 'max_features': 'sqrt',\n",
       " 'n_estimators': 400}"
      ]
     },
     "execution_count": 76,
     "metadata": {},
     "output_type": "execute_result"
    }
   ],
   "source": [
    "rf_Grid.best_params_"
   ]
  },
  {
   "cell_type": "markdown",
   "metadata": {},
   "source": [
    "### rf_Grid"
   ]
  },
  {
   "cell_type": "code",
   "execution_count": 77,
   "metadata": {},
   "outputs": [],
   "source": [
    "rf_grid = RandomForestClassifier(random_state=42, max_features = 'sqrt', n_estimators = 400, max_depth = 10, criterion = 'gini', class_weight = 'balanced_subsample')"
   ]
  },
  {
   "cell_type": "code",
   "execution_count": 78,
   "metadata": {},
   "outputs": [
    {
     "name": "stdout",
     "output_type": "stream",
     "text": [
      "CPU times: user 2min 10s, sys: 2.58 s, total: 2min 13s\n",
      "Wall time: 2min 54s\n"
     ]
    },
    {
     "data": {
      "text/plain": [
       "RandomForestClassifier(bootstrap=True, ccp_alpha=0.0,\n",
       "                       class_weight='balanced_subsample', criterion='gini',\n",
       "                       max_depth=10, max_features='sqrt', max_leaf_nodes=None,\n",
       "                       max_samples=None, min_impurity_decrease=0.0,\n",
       "                       min_impurity_split=None, min_samples_leaf=1,\n",
       "                       min_samples_split=2, min_weight_fraction_leaf=0.0,\n",
       "                       n_estimators=400, n_jobs=None, oob_score=False,\n",
       "                       random_state=42, verbose=0, warm_start=False)"
      ]
     },
     "execution_count": 78,
     "metadata": {},
     "output_type": "execute_result"
    }
   ],
   "source": [
    "%%time\n",
    "rf_grid.fit(X_train, y_train)"
   ]
  },
  {
   "cell_type": "code",
   "execution_count": 79,
   "metadata": {},
   "outputs": [
    {
     "data": {
      "text/plain": [
       "0.8275440103048519"
      ]
     },
     "execution_count": 79,
     "metadata": {},
     "output_type": "execute_result"
    }
   ],
   "source": [
    "rf_grid.score(X_train, y_train)"
   ]
  },
  {
   "cell_type": "code",
   "execution_count": 80,
   "metadata": {},
   "outputs": [
    {
     "data": {
      "text/plain": [
       "0.7481322455989695"
      ]
     },
     "execution_count": 80,
     "metadata": {},
     "output_type": "execute_result"
    }
   ],
   "source": [
    "rf_grid.score(X_test, y_test)"
   ]
  },
  {
   "cell_type": "code",
   "execution_count": 81,
   "metadata": {},
   "outputs": [
    {
     "name": "stdout",
     "output_type": "stream",
     "text": [
      "CPU times: user 8min 30s, sys: 10.7 s, total: 8min 40s\n",
      "Wall time: 11min 7s\n"
     ]
    },
    {
     "data": {
      "text/plain": [
       "0.7575783598110777"
      ]
     },
     "execution_count": 81,
     "metadata": {},
     "output_type": "execute_result"
    }
   ],
   "source": [
    "%%time\n",
    "cross_val_result = cross_val_score(rf_grid, X_train, y_train)\n",
    "cross_val_result.mean()"
   ]
  },
  {
   "cell_type": "markdown",
   "metadata": {},
   "source": [
    "### Save Model in Pickle"
   ]
  },
  {
   "cell_type": "code",
   "execution_count": 84,
   "metadata": {},
   "outputs": [],
   "source": [
    "with open ('rf_grid_10x_pickle', 'wb') as f:\n",
    "    pickle.dump(rf_grid,f)"
   ]
  },
  {
   "cell_type": "code",
   "execution_count": null,
   "metadata": {},
   "outputs": [],
   "source": []
  }
 ],
 "metadata": {
  "kernelspec": {
   "display_name": "Python 3",
   "language": "python",
   "name": "python3"
  },
  "language_info": {
   "codemirror_mode": {
    "name": "ipython",
    "version": 3
   },
   "file_extension": ".py",
   "mimetype": "text/x-python",
   "name": "python",
   "nbconvert_exporter": "python",
   "pygments_lexer": "ipython3",
   "version": "3.7.6"
  }
 },
 "nbformat": 4,
 "nbformat_minor": 4
}
